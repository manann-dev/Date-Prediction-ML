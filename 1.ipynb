{
 "cells": [
  {
   "cell_type": "code",
   "execution_count": 15,
   "metadata": {},
   "outputs": [
    {
     "name": "stderr",
     "output_type": "stream",
     "text": [
      "C:\\Users\\Sai Computer\\AppData\\Local\\Temp\\ipykernel_4872\\1232664977.py:9: UserWarning: Parsing dates in %d-%m-%Y format when dayfirst=False (the default) was specified. Pass `dayfirst=True` or specify a format to silence this warning.\n",
      "  df['InvoiceDate'] = pd.to_datetime(df['InvoiceDate'])\n"
     ]
    },
    {
     "ename": "KeyError",
     "evalue": "'Column not found: InvoiceDate'",
     "output_type": "error",
     "traceback": [
      "\u001b[1;31m---------------------------------------------------------------------------\u001b[0m",
      "\u001b[1;31mKeyError\u001b[0m                                  Traceback (most recent call last)",
      "Cell \u001b[1;32mIn[15], line 14\u001b[0m\n\u001b[0;32m     10\u001b[0m df \u001b[38;5;241m=\u001b[39m df\u001b[38;5;241m.\u001b[39mset_index(\u001b[38;5;124m'\u001b[39m\u001b[38;5;124mInvoiceDate\u001b[39m\u001b[38;5;124m'\u001b[39m)\n\u001b[0;32m     11\u001b[0m df \u001b[38;5;241m=\u001b[39m df\u001b[38;5;241m.\u001b[39msort_index()\n\u001b[1;32m---> 14\u001b[0m df[\u001b[38;5;124m'\u001b[39m\u001b[38;5;124mDaysSinceLastPurchase\u001b[39m\u001b[38;5;124m'\u001b[39m] \u001b[38;5;241m=\u001b[39m df\u001b[38;5;241m.\u001b[39mgroupby(\u001b[38;5;124m'\u001b[39m\u001b[38;5;124mPartyName\u001b[39m\u001b[38;5;124m'\u001b[39m)[\u001b[38;5;124m'\u001b[39m\u001b[38;5;124mInvoiceDate\u001b[39m\u001b[38;5;124m'\u001b[39m]\u001b[38;5;241m.\u001b[39mdiff()\u001b[38;5;241m.\u001b[39mdt\u001b[38;5;241m.\u001b[39mdays\n\u001b[0;32m     17\u001b[0m df[\u001b[38;5;124m'\u001b[39m\u001b[38;5;124mStationaryAmount\u001b[39m\u001b[38;5;124m'\u001b[39m] \u001b[38;5;241m=\u001b[39m df[\u001b[38;5;124m'\u001b[39m\u001b[38;5;124mAmount\u001b[39m\u001b[38;5;124m'\u001b[39m]\u001b[38;5;241m.\u001b[39mdiff()\n\u001b[0;32m     19\u001b[0m train_size \u001b[38;5;241m=\u001b[39m \u001b[38;5;28mint\u001b[39m(\u001b[38;5;241m0.8\u001b[39m \u001b[38;5;241m*\u001b[39m \u001b[38;5;28mlen\u001b[39m(df))\n",
      "File \u001b[1;32mc:\\Users\\Sai Computer\\anaconda3\\Lib\\site-packages\\pandas\\core\\groupby\\generic.py:1771\u001b[0m, in \u001b[0;36mDataFrameGroupBy.__getitem__\u001b[1;34m(self, key)\u001b[0m\n\u001b[0;32m   1764\u001b[0m \u001b[38;5;28;01mif\u001b[39;00m \u001b[38;5;28misinstance\u001b[39m(key, \u001b[38;5;28mtuple\u001b[39m) \u001b[38;5;129;01mand\u001b[39;00m \u001b[38;5;28mlen\u001b[39m(key) \u001b[38;5;241m>\u001b[39m \u001b[38;5;241m1\u001b[39m:\n\u001b[0;32m   1765\u001b[0m     \u001b[38;5;66;03m# if len == 1, then it becomes a SeriesGroupBy and this is actually\u001b[39;00m\n\u001b[0;32m   1766\u001b[0m     \u001b[38;5;66;03m# valid syntax, so don't raise\u001b[39;00m\n\u001b[0;32m   1767\u001b[0m     \u001b[38;5;28;01mraise\u001b[39;00m \u001b[38;5;167;01mValueError\u001b[39;00m(\n\u001b[0;32m   1768\u001b[0m         \u001b[38;5;124m\"\u001b[39m\u001b[38;5;124mCannot subset columns with a tuple with more than one element. \u001b[39m\u001b[38;5;124m\"\u001b[39m\n\u001b[0;32m   1769\u001b[0m         \u001b[38;5;124m\"\u001b[39m\u001b[38;5;124mUse a list instead.\u001b[39m\u001b[38;5;124m\"\u001b[39m\n\u001b[0;32m   1770\u001b[0m     )\n\u001b[1;32m-> 1771\u001b[0m \u001b[38;5;28;01mreturn\u001b[39;00m \u001b[38;5;28msuper\u001b[39m()\u001b[38;5;241m.\u001b[39m\u001b[38;5;21m__getitem__\u001b[39m(key)\n",
      "File \u001b[1;32mc:\\Users\\Sai Computer\\anaconda3\\Lib\\site-packages\\pandas\\core\\base.py:244\u001b[0m, in \u001b[0;36mSelectionMixin.__getitem__\u001b[1;34m(self, key)\u001b[0m\n\u001b[0;32m    242\u001b[0m \u001b[38;5;28;01melse\u001b[39;00m:\n\u001b[0;32m    243\u001b[0m     \u001b[38;5;28;01mif\u001b[39;00m key \u001b[38;5;129;01mnot\u001b[39;00m \u001b[38;5;129;01min\u001b[39;00m \u001b[38;5;28mself\u001b[39m\u001b[38;5;241m.\u001b[39mobj:\n\u001b[1;32m--> 244\u001b[0m         \u001b[38;5;28;01mraise\u001b[39;00m \u001b[38;5;167;01mKeyError\u001b[39;00m(\u001b[38;5;124mf\u001b[39m\u001b[38;5;124m\"\u001b[39m\u001b[38;5;124mColumn not found: \u001b[39m\u001b[38;5;132;01m{\u001b[39;00mkey\u001b[38;5;132;01m}\u001b[39;00m\u001b[38;5;124m\"\u001b[39m)\n\u001b[0;32m    245\u001b[0m     ndim \u001b[38;5;241m=\u001b[39m \u001b[38;5;28mself\u001b[39m\u001b[38;5;241m.\u001b[39mobj[key]\u001b[38;5;241m.\u001b[39mndim\n\u001b[0;32m    246\u001b[0m     \u001b[38;5;28;01mreturn\u001b[39;00m \u001b[38;5;28mself\u001b[39m\u001b[38;5;241m.\u001b[39m_gotitem(key, ndim\u001b[38;5;241m=\u001b[39mndim)\n",
      "\u001b[1;31mKeyError\u001b[0m: 'Column not found: InvoiceDate'"
     ]
    }
   ],
   "source": [
    "import pandas as pd\n",
    "from statsmodels.tsa.statespace.sarimax import SARIMAX\n",
    "from datetime import timedelta\n",
    "import json\n",
    "\n",
    "\n",
    "df = pd.read_csv('testdata1.csv')\n",
    "\n",
    "df['InvoiceDate'] = pd.to_datetime(df['InvoiceDate'])\n",
    "df = df.set_index('InvoiceDate')\n",
    "df = df.sort_index()\n",
    "\n",
    "\n",
    "df['DaysSinceLastPurchase'] = df.index.to_series().diff().dt.days\n",
    "df['PurchaseAmount7DaysAgo'] = df['InvoiceAmount'].shift(1)\n",
    "\n",
    "\n",
    "\n",
    "df['StationaryAmount'] = df['Amount'].diff()\n",
    "\n",
    "train_size = int(0.8 * len(df))\n",
    "train, test = df.iloc[:train_size], df.iloc[train_size:]\n",
    "\n",
    "order = (1, 1, 1)\n",
    "seasonal_order = (1, 1, 1, 7)\n",
    "\n",
    "model = SARIMAX(train['DaysSinceLastPurchase'].dropna(), order=order, seasonal_order=seasonal_order)\n",
    "result = model.fit()\n",
    "\n",
    "forecast_days = 7  \n",
    "forecast_dates = pd.date_range(start=test.index[-1] + timedelta(days=1), periods=forecast_days, freq='D')\n",
    "forecast_index = pd.DatetimeIndex(forecast_dates)\n",
    "\n",
    "forecast_series = pd.Series(result.forecast(steps=forecast_days), index=forecast_index)\n",
    "\n",
    "results_dict = {}\n",
    "\n",
    "for party in df['PartyName'].unique():\n",
    "    party_data = df[df['PartyName'] == party]\n",
    "    party_forecast = result.get_forecast(steps=len(party_data) + forecast_days)\n",
    "\n",
    "    probabilities = party_forecast.predicted_mean.iloc[-forecast_days:]\n",
    "    probabilities = (probabilities - probabilities.min()) / (probabilities.max() - probabilities.min())\n",
    "\n",
    "    \n",
    "    results_dict[party] = {\n",
    "        'NextPurchaseDate': party_forecast.index[-1].strftime('%Y-%m-%d'),\n",
    "        'Probabilities': probabilities.to_dict()\n",
    "    }\n",
    "\n",
    "json_results = json.dumps(results_dict, indent=2)\n",
    "\n",
    "with open('purchase_predictions.json', 'w') as json_file:\n",
    "    json_file.write(json_results)"
   ]
  },
  {
   "cell_type": "code",
   "execution_count": 16,
   "metadata": {},
   "outputs": [],
   "source": [
    "import pandas as pd\n",
    "from statsmodels.tsa.statespace.sarimax import SARIMAX\n",
    "from datetime import timedelta\n",
    "import json"
   ]
  },
  {
   "cell_type": "code",
   "execution_count": 17,
   "metadata": {},
   "outputs": [],
   "source": [
    "df = pd.read_csv('testdata1.csv')"
   ]
  },
  {
   "cell_type": "code",
   "execution_count": 18,
   "metadata": {},
   "outputs": [
    {
     "name": "stderr",
     "output_type": "stream",
     "text": [
      "C:\\Users\\Sai Computer\\AppData\\Local\\Temp\\ipykernel_4872\\2219357401.py:1: UserWarning: Parsing dates in %d-%m-%Y format when dayfirst=False (the default) was specified. Pass `dayfirst=True` or specify a format to silence this warning.\n",
      "  df['InvoiceDate'] = pd.to_datetime(df['InvoiceDate'])\n"
     ]
    }
   ],
   "source": [
    "df['InvoiceDate'] = pd.to_datetime(df['InvoiceDate'])\n",
    "df = df.set_index('InvoiceDate')\n",
    "df = df.sort_index()"
   ]
  },
  {
   "cell_type": "code",
   "execution_count": 19,
   "metadata": {},
   "outputs": [
    {
     "name": "stdout",
     "output_type": "stream",
     "text": [
      "             InvoiceID     PartyName      Amount  RepurchaseWithin1Month  \\\n",
      "InvoiceDate                                                                \n",
      "2023-01-23         291  ABC Shipping  492.024983                       0   \n",
      "2023-01-23         328  LMN Maritime  682.727243                       1   \n",
      "2023-01-23         148  LMN Maritime  279.588206                       1   \n",
      "2023-01-23          55  LMN Maritime  860.304905                       0   \n",
      "2023-01-23         464  ABC Shipping  336.801313                       1   \n",
      "\n",
      "             TimeSinceLastPurchase  AveragePurchaseAmount  \\\n",
      "InvoiceDate                                                 \n",
      "2023-01-23                     0.0             572.633416   \n",
      "2023-01-23                     0.0             522.236079   \n",
      "2023-01-23                     0.0             522.236079   \n",
      "2023-01-23                     0.0             522.236079   \n",
      "2023-01-23                     0.0             572.633416   \n",
      "\n",
      "             TotalNumberOfPurchases  \n",
      "InvoiceDate                          \n",
      "2023-01-23                        1  \n",
      "2023-01-23                        3  \n",
      "2023-01-23                        2  \n",
      "2023-01-23                        1  \n",
      "2023-01-23                        2  \n"
     ]
    }
   ],
   "source": [
    "print(df.head())"
   ]
  },
  {
   "cell_type": "code",
   "execution_count": 24,
   "metadata": {},
   "outputs": [],
   "source": [
    "df['DaysSinceLastPurchase'] = df.index.to_series().diff().dt.days\n",
    "df['PurchaseAmount7DaysAgo'] = df['Amount'].shift(1)\n"
   ]
  },
  {
   "cell_type": "code",
   "execution_count": 25,
   "metadata": {},
   "outputs": [
    {
     "name": "stdout",
     "output_type": "stream",
     "text": [
      "             InvoiceID     PartyName      Amount  RepurchaseWithin1Month  \\\n",
      "InvoiceDate                                                                \n",
      "2023-01-23         291  ABC Shipping  492.024983                       0   \n",
      "2023-01-23         328  LMN Maritime  682.727243                       1   \n",
      "2023-01-23         148  LMN Maritime  279.588206                       1   \n",
      "2023-01-23          55  LMN Maritime  860.304905                       0   \n",
      "2023-01-23         464  ABC Shipping  336.801313                       1   \n",
      "\n",
      "             TimeSinceLastPurchase  AveragePurchaseAmount  \\\n",
      "InvoiceDate                                                 \n",
      "2023-01-23                     0.0             572.633416   \n",
      "2023-01-23                     0.0             522.236079   \n",
      "2023-01-23                     0.0             522.236079   \n",
      "2023-01-23                     0.0             522.236079   \n",
      "2023-01-23                     0.0             572.633416   \n",
      "\n",
      "             TotalNumberOfPurchases  DaysSinceLastPurchase  \\\n",
      "InvoiceDate                                                  \n",
      "2023-01-23                        1                    NaN   \n",
      "2023-01-23                        3                    0.0   \n",
      "2023-01-23                        2                    0.0   \n",
      "2023-01-23                        1                    0.0   \n",
      "2023-01-23                        2                    0.0   \n",
      "\n",
      "             PurchaseAmount7DaysAgo  \n",
      "InvoiceDate                          \n",
      "2023-01-23                      NaN  \n",
      "2023-01-23               492.024983  \n",
      "2023-01-23               682.727243  \n",
      "2023-01-23               279.588206  \n",
      "2023-01-23               860.304905  \n"
     ]
    }
   ],
   "source": [
    "print(df.head())"
   ]
  },
  {
   "cell_type": "code",
   "execution_count": 26,
   "metadata": {},
   "outputs": [],
   "source": [
    "df['StationaryAmount'] = df['Amount'].diff()"
   ]
  },
  {
   "cell_type": "code",
   "execution_count": 27,
   "metadata": {},
   "outputs": [],
   "source": [
    "train_size = int(0.8 * len(df))\n",
    "train, test = df.iloc[:train_size], df.iloc[train_size:]"
   ]
  },
  {
   "cell_type": "code",
   "execution_count": 28,
   "metadata": {},
   "outputs": [],
   "source": [
    "order = (1, 1, 1)\n",
    "seasonal_order = (1, 1, 1, 7)"
   ]
  },
  {
   "cell_type": "code",
   "execution_count": 29,
   "metadata": {},
   "outputs": [
    {
     "name": "stderr",
     "output_type": "stream",
     "text": [
      "c:\\Users\\Sai Computer\\anaconda3\\Lib\\site-packages\\statsmodels\\tsa\\base\\tsa_model.py:473: ValueWarning: A date index has been provided, but it has no associated frequency information and so will be ignored when e.g. forecasting.\n",
      "  self._init_dates(dates, freq)\n",
      "c:\\Users\\Sai Computer\\anaconda3\\Lib\\site-packages\\statsmodels\\tsa\\base\\tsa_model.py:473: ValueWarning: A date index has been provided, but it has no associated frequency information and so will be ignored when e.g. forecasting.\n",
      "  self._init_dates(dates, freq)\n"
     ]
    }
   ],
   "source": [
    "model = SARIMAX(train['DaysSinceLastPurchase'].dropna(), order=order, seasonal_order=seasonal_order)\n",
    "result = model.fit()"
   ]
  },
  {
   "cell_type": "code",
   "execution_count": 30,
   "metadata": {},
   "outputs": [],
   "source": [
    "forecast_days = 7 \n",
    "forecast_dates = pd.date_range(start=test.index[-1] + timedelta(days=1), periods=forecast_days, freq='D')\n",
    "forecast_index = pd.DatetimeIndex(forecast_dates)"
   ]
  },
  {
   "cell_type": "code",
   "execution_count": 31,
   "metadata": {},
   "outputs": [
    {
     "name": "stderr",
     "output_type": "stream",
     "text": [
      "c:\\Users\\Sai Computer\\anaconda3\\Lib\\site-packages\\statsmodels\\tsa\\base\\tsa_model.py:836: ValueWarning: No supported index is available. Prediction results will be given with an integer index beginning at `start`.\n",
      "  return get_prediction_index(\n",
      "c:\\Users\\Sai Computer\\anaconda3\\Lib\\site-packages\\statsmodels\\tsa\\base\\tsa_model.py:836: FutureWarning: No supported index is available. In the next version, calling this method in a model without a supported index will result in an exception.\n",
      "  return get_prediction_index(\n"
     ]
    }
   ],
   "source": [
    "forecast_series = pd.Series(result.forecast(steps=forecast_days), index=forecast_index)"
   ]
  },
  {
   "cell_type": "code",
   "execution_count": 32,
   "metadata": {},
   "outputs": [],
   "source": [
    "results_dict = {}"
   ]
  },
  {
   "cell_type": "code",
   "execution_count": 36,
   "metadata": {},
   "outputs": [
    {
     "name": "stderr",
     "output_type": "stream",
     "text": [
      "c:\\Users\\Sai Computer\\anaconda3\\Lib\\site-packages\\statsmodels\\tsa\\base\\tsa_model.py:836: ValueWarning: No supported index is available. Prediction results will be given with an integer index beginning at `start`.\n",
      "  return get_prediction_index(\n",
      "c:\\Users\\Sai Computer\\anaconda3\\Lib\\site-packages\\statsmodels\\tsa\\base\\tsa_model.py:836: ValueWarning: No supported index is available. Prediction results will be given with an integer index beginning at `start`.\n",
      "  return get_prediction_index(\n",
      "c:\\Users\\Sai Computer\\anaconda3\\Lib\\site-packages\\statsmodels\\tsa\\base\\tsa_model.py:836: ValueWarning: No supported index is available. Prediction results will be given with an integer index beginning at `start`.\n",
      "  return get_prediction_index(\n",
      "c:\\Users\\Sai Computer\\anaconda3\\Lib\\site-packages\\statsmodels\\tsa\\base\\tsa_model.py:836: ValueWarning: No supported index is available. Prediction results will be given with an integer index beginning at `start`.\n",
      "  return get_prediction_index(\n"
     ]
    }
   ],
   "source": [
    "for party in df['PartyName'].unique():\n",
    "    party_data = df[df['PartyName'] == party]\n",
    "    party_forecast = result.get_forecast(steps=len(party_data) + forecast_days)\n",
    "\n",
    "    probabilities = party_forecast.predicted_mean.iloc[-forecast_days:]\n",
    "    probabilities = (probabilities - probabilities.min()) / (probabilities.max() - probabilities.min())\n",
    "\n",
    "    next_purchase_date = str(party_data.index[-1] + timedelta(days=1))\n",
    "\n",
    "    results_dict[party] = {\n",
    "        'NextPurchaseDate': next_purchase_date,\n",
    "        'Probabilities': probabilities.to_dict()\n",
    "    }\n",
    "\n",
    "json_results = json.dumps(results_dict, indent=2)\n",
    "\n",
    "with open('purchase_predictions.json', 'w') as json_file:\n",
    "    json_file.write(json_results)"
   ]
  },
  {
   "cell_type": "code",
   "execution_count": 37,
   "metadata": {},
   "outputs": [
    {
     "name": "stdout",
     "output_type": "stream",
     "text": [
      "Mean Absolute Error (MAE): 0.4794299285948348\n",
      "Mean Squared Error (MSE): 0.26947133723802486\n",
      "Root Mean Squared Error (RMSE): 0.5191062870338067\n"
     ]
    },
    {
     "name": "stderr",
     "output_type": "stream",
     "text": [
      "c:\\Users\\Sai Computer\\anaconda3\\Lib\\site-packages\\statsmodels\\tsa\\base\\tsa_model.py:836: ValueWarning: No supported index is available. Prediction results will be given with an integer index beginning at `start`.\n",
      "  return get_prediction_index(\n",
      "c:\\Users\\Sai Computer\\anaconda3\\Lib\\site-packages\\statsmodels\\tsa\\base\\tsa_model.py:836: FutureWarning: No supported index is available. In the next version, calling this method in a model without a supported index will result in an exception.\n",
      "  return get_prediction_index(\n"
     ]
    }
   ],
   "source": [
    "from sklearn.metrics import mean_absolute_error, mean_squared_error\n",
    "import numpy as np\n",
    "\n",
    "actual_values = test['DaysSinceLastPurchase'].dropna()\n",
    "\n",
    "predicted_values = result.get_forecast(steps=len(test))\n",
    "predicted_values = predicted_values.predicted_mean.dropna()\n",
    "\n",
    "mae = mean_absolute_error(actual_values, predicted_values)\n",
    "print(f\"Mean Absolute Error (MAE): {mae}\")\n",
    "\n",
    "mse = mean_squared_error(actual_values, predicted_values)\n",
    "print(f\"Mean Squared Error (MSE): {mse}\")\n",
    "\n",
    "rmse = np.sqrt(mse)\n",
    "print(f\"Root Mean Squared Error (RMSE): {rmse}\")"
   ]
  },
  {
   "cell_type": "code",
   "execution_count": 53,
   "metadata": {},
   "outputs": [
    {
     "name": "stderr",
     "output_type": "stream",
     "text": [
      "c:\\Users\\Sai Computer\\anaconda3\\Lib\\site-packages\\statsmodels\\tsa\\base\\tsa_model.py:836: ValueWarning: No supported index is available. Prediction results will be given with an integer index beginning at `start`.\n",
      "  return get_prediction_index(\n",
      "c:\\Users\\Sai Computer\\anaconda3\\Lib\\site-packages\\statsmodels\\tsa\\base\\tsa_model.py:836: ValueWarning: No supported index is available. Prediction results will be given with an integer index beginning at `start`.\n",
      "  return get_prediction_index(\n",
      "c:\\Users\\Sai Computer\\anaconda3\\Lib\\site-packages\\statsmodels\\tsa\\base\\tsa_model.py:836: ValueWarning: No supported index is available. Prediction results will be given with an integer index beginning at `start`.\n",
      "  return get_prediction_index(\n",
      "c:\\Users\\Sai Computer\\anaconda3\\Lib\\site-packages\\statsmodels\\tsa\\base\\tsa_model.py:836: ValueWarning: No supported index is available. Prediction results will be given with an integer index beginning at `start`.\n",
      "  return get_prediction_index(\n"
     ]
    }
   ],
   "source": [
    "from datetime import datetime\n",
    "\n",
    "current_date = datetime.now().date()\n",
    "\n",
    "results_dict = {}\n",
    "\n",
    "for party in df['PartyName'].unique():\n",
    "    party_data = df[df['PartyName'] == party]\n",
    "    party_forecast = result.get_forecast(steps=len(party_data) + forecast_days)\n",
    "\n",
    "\n",
    "    last_index = pd.to_datetime(party_forecast.predicted_mean.index[-1])\n",
    "    forecast_index = pd.date_range(start=current_date, periods=forecast_days, freq='D')\n",
    "    probabilities = party_forecast.predicted_mean.iloc[-forecast_days:]\n",
    "\n",
    "    probabilities = (probabilities - probabilities.min()) / (probabilities.max() - probabilities.min())\n",
    "\n",
    "    next_purchase_dates = [date.strftime('%Y-%m-%d') for date in forecast_index]\n",
    "\n",
    "\n",
    "    results_dict[party] = {\n",
    "        'NextPurchaseDates': dict(zip(next_purchase_dates, probabilities.to_dict().values())),\n",
    "    }\n",
    "json_results = json.dumps(results_dict, indent=2)\n",
    "\n",
    "with open('purchase_predictions1.json', 'w') as json_file:\n",
    "    json_file.write(json_results)"
   ]
  },
  {
   "cell_type": "code",
   "execution_count": null,
   "metadata": {},
   "outputs": [],
   "source": []
  }
 ],
 "metadata": {
  "kernelspec": {
   "display_name": "base",
   "language": "python",
   "name": "python3"
  },
  "language_info": {
   "codemirror_mode": {
    "name": "ipython",
    "version": 3
   },
   "file_extension": ".py",
   "mimetype": "text/x-python",
   "name": "python",
   "nbconvert_exporter": "python",
   "pygments_lexer": "ipython3",
   "version": "3.11.5"
  }
 },
 "nbformat": 4,
 "nbformat_minor": 2
}
